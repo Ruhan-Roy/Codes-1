{
  "nbformat": 4,
  "nbformat_minor": 0,
  "metadata": {
    "colab": {
      "provenance": [],
      "authorship_tag": "ABX9TyNQ0UMJmQ2R7LCG+tVIjfAv",
      "include_colab_link": true
    },
    "kernelspec": {
      "name": "python3",
      "display_name": "Python 3"
    },
    "language_info": {
      "name": "python"
    }
  },
  "cells": [
    {
      "cell_type": "markdown",
      "metadata": {
        "id": "view-in-github",
        "colab_type": "text"
      },
      "source": [
        "<a href=\"https://colab.research.google.com/github/Ruhan-Royy/2022/blob/main/Face_recognizer.ipynb\" target=\"_parent\"><img src=\"https://colab.research.google.com/assets/colab-badge.svg\" alt=\"Open In Colab\"/></a>"
      ]
    },
    {
      "cell_type": "code",
      "execution_count": null,
      "metadata": {
        "colab": {
          "base_uri": "https://localhost:8080/"
        },
        "id": "DXg0mRTuGCdx",
        "outputId": "2192c17a-e9c1-4363-dabb-4287e1ecfb30"
      },
      "outputs": [
        {
          "output_type": "stream",
          "name": "stdout",
          "text": [
            "[[137 130  61  61]\n",
            " [ 57 192  61  61]\n",
            " [242 191  61  61]\n",
            " [131 288  61  61]\n",
            " [ 26 321  61  61]\n",
            " [226 330  98  98]]\n"
          ]
        },
        {
          "output_type": "execute_result",
          "data": {
            "text/plain": [
              "True"
            ]
          },
          "metadata": {},
          "execution_count": 5
        }
      ],
      "source": [
        "#face recognizer code\n",
        "import cv2\n",
        "img = cv2.imread('/content/friends.jpg')\n",
        "#xml file\n",
        "cascade = cv2.CascadeClassifier('/content/haarcascade_frontalface_default.xml')\n",
        "#face coordinates\n",
        "face = cascade.detectMultiScale(img, 1.6, 4)\n",
        "print(face)\n",
        "\n",
        "#(x, y) = start coordinate for face, (x+w, y+h) = stop coordinate, 4 = rectangle\n",
        "for x, y, w, h in face:\n",
        "  cv2.rectangle(img, (x, y), (x+w, y+h), (0, 0, 255), 4)\n",
        "#output function\n",
        "cv2.imwrite('output.jpeg', img)"
      ]
    },
    {
      "cell_type": "code",
      "source": [
        "gif = cv2.VideoCapture('/content/baby.gif')\n",
        "xml = cv2.CascadeClassifier('/content/haarcascade_frontalface_default.xml')\n",
        "count = 0\n",
        "\n",
        "while gif.isOpened():\n",
        "  status, frame=gif.read()\n",
        "  if status == True:\n",
        "    count=count+1\n",
        "    face = xml.detectMultiScale(frame, 1.2, 4)\n",
        "    for x, y, w, h in face:\n",
        "      cv2.rectangle(frame, (x, y), (x+w, y+h), (0, 0, 255), 4)\n",
        "      cv2.imwrite('faces'+str(count)+'.jpeg', frame)"
      ],
      "metadata": {
        "id": "FVzNcd0kOKdM"
      },
      "execution_count": null,
      "outputs": []
    }
  ]
}