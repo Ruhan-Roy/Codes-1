{
  "nbformat": 4,
  "nbformat_minor": 0,
  "metadata": {
    "colab": {
      "provenance": [],
      "authorship_tag": "ABX9TyPn7uwfMgO0RMIRrNxmeJyt",
      "include_colab_link": true
    },
    "kernelspec": {
      "name": "python3",
      "display_name": "Python 3"
    },
    "language_info": {
      "name": "python"
    }
  },
  "cells": [
    {
      "cell_type": "markdown",
      "metadata": {
        "id": "view-in-github",
        "colab_type": "text"
      },
      "source": [
        "<a href=\"https://colab.research.google.com/github/Ruhan-Royy/2022/blob/main/Image_Filter.ipynb\" target=\"_parent\"><img src=\"https://colab.research.google.com/assets/colab-badge.svg\" alt=\"Open In Colab\"/></a>"
      ]
    },
    {
      "cell_type": "code",
      "execution_count": null,
      "metadata": {
        "colab": {
          "base_uri": "https://localhost:8080/"
        },
        "id": "3RqS5fUMs-m6",
        "outputId": "acc3fafc-b93b-4148-dfbe-b55dcd276995"
      },
      "outputs": [
        {
          "output_type": "stream",
          "name": "stdout",
          "text": [
            "(280, 520, 3)\n"
          ]
        },
        {
          "output_type": "execute_result",
          "data": {
            "text/plain": [
              "True"
            ]
          },
          "metadata": {},
          "execution_count": 4
        }
      ],
      "source": [
        "import cv2\n",
        "img = cv2.imread('/content/white-jet-plane-flying-high-260nw-263296865.jpg')\n",
        "print(img.shape)\n",
        "h = img.shape[0]\n",
        "w = img.shape[1]\n",
        "hhalf = int(h/2)\n",
        "copyh = h-1\n",
        "\n",
        "for i in range(w):\n",
        "  h = copyh\n",
        "  for j in range(hhalf):\n",
        "    img[h, i] = img[j, i]\n",
        "    h=h-1\n",
        "\n",
        "cv2.imwrite('newimg.jpg', img)"
      ]
    },
    {
      "cell_type": "code",
      "source": [
        "import cv2\n",
        "img = cv2.imread('/content/white-jet-plane-flying-high-260nw-263296865.jpg')\n",
        "print(img.shape)\n",
        "\n",
        "h = img.shape[0]\n",
        "w = img.shape[1]\n",
        "whalf = int(w/2)\n",
        "copyw = w-1\n",
        "\n",
        "for i in range(h):\n",
        "  w = copyw\n",
        "  for j in range(whalf):\n",
        "    img[i, j] = img[i, w]\n",
        "    w = w-1\n",
        "\n",
        "cv2.imwrite('newi.jpg', img)"
      ],
      "metadata": {
        "colab": {
          "base_uri": "https://localhost:8080/"
        },
        "id": "hNPfiJkYxHf6",
        "outputId": "f52ecff4-f159-49ca-ff6b-c7a5fcecad90"
      },
      "execution_count": null,
      "outputs": [
        {
          "output_type": "stream",
          "name": "stdout",
          "text": [
            "(280, 520, 3)\n"
          ]
        },
        {
          "output_type": "execute_result",
          "data": {
            "text/plain": [
              "True"
            ]
          },
          "metadata": {},
          "execution_count": 9
        }
      ]
    }
  ]
}