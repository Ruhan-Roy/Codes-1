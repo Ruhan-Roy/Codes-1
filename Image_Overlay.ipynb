{
  "nbformat": 4,
  "nbformat_minor": 0,
  "metadata": {
    "colab": {
      "provenance": [],
      "authorship_tag": "ABX9TyOlu3u1NwvOUEBUD6qnTAZQ",
      "include_colab_link": true
    },
    "kernelspec": {
      "name": "python3",
      "display_name": "Python 3"
    },
    "language_info": {
      "name": "python"
    }
  },
  "cells": [
    {
      "cell_type": "markdown",
      "metadata": {
        "id": "view-in-github",
        "colab_type": "text"
      },
      "source": [
        "<a href=\"https://colab.research.google.com/github/Ruhan-Royy/2022/blob/main/Image_Overlay.ipynb\" target=\"_parent\"><img src=\"https://colab.research.google.com/assets/colab-badge.svg\" alt=\"Open In Colab\"/></a>"
      ]
    },
    {
      "cell_type": "code",
      "execution_count": null,
      "metadata": {
        "id": "QyALVWp2DDat"
      },
      "outputs": [],
      "source": [
        "#Logo overlay on background\n",
        "import cv2\n",
        "back = cv2.imread('/content/bg.jpeg')\n",
        "front = cv2.imread('/content/logo.jpeg')\n",
        "\n",
        "print('background image',back.shape)\n",
        "#resize logo\n",
        "front = cv2.resize(front, (80, 80))\n",
        "print('logo', front.shape)\n",
        "\n",
        "hfront = front.shape[0]\n",
        "wfront = front.shape[1]\n",
        "\n",
        "for i in range(hfront):\n",
        "  for j in range(wfront):\n",
        "    #print(front[i, j]) to check the colour info\n",
        "    if not(front[i, j][0] > 200 and front[i, j][1] > 200 and front[i, j][2]>200 ):\n",
        "      back[i, j] = front[i, j]\n",
        "\n",
        "cv2.imwrite('edited pic.jpeg', back)"
      ]
    },
    {
      "cell_type": "code",
      "source": [
        "#green screen\n",
        "import cv2\n",
        "\n",
        "image = cv2.imread('/content/iron man gs.png')\n",
        "print(image.shape)\n",
        "\n",
        "himage = image.shape[0]\n",
        "wimage = image.shape[1]\n",
        "\n",
        "for i in range(himage):\n",
        "  for j in range(wimage):\n",
        "    #print(image[i, j])\n",
        "    if image[i, j][0] == 1 and image[i, j][1] == 255 and image[i, j][2] == 0:\n",
        "      image[i, j] = 0\n",
        "cv2.imwrite('bg black.png', image)"
      ],
      "metadata": {
        "colab": {
          "base_uri": "https://localhost:8080/",
          "height": 211
        },
        "id": "7T3KwJ6GDwEE",
        "outputId": "9a723828-eb2a-40e5-9eb3-0a0bfc5f43e7"
      },
      "execution_count": null,
      "outputs": [
        {
          "output_type": "error",
          "ename": "AttributeError",
          "evalue": "'NoneType' object has no attribute 'shape'",
          "traceback": [
            "\u001b[0;31m---------------------------------------------------------------------------\u001b[0m",
            "\u001b[0;31mAttributeError\u001b[0m                            Traceback (most recent call last)",
            "\u001b[0;32m<ipython-input-2-d11f9b445f7c>\u001b[0m in \u001b[0;36m<cell line: 5>\u001b[0;34m()\u001b[0m\n\u001b[1;32m      3\u001b[0m \u001b[0;34m\u001b[0m\u001b[0m\n\u001b[1;32m      4\u001b[0m \u001b[0mimage\u001b[0m \u001b[0;34m=\u001b[0m \u001b[0mcv2\u001b[0m\u001b[0;34m.\u001b[0m\u001b[0mimread\u001b[0m\u001b[0;34m(\u001b[0m\u001b[0;34m'/content/iron man gs.png'\u001b[0m\u001b[0;34m)\u001b[0m\u001b[0;34m\u001b[0m\u001b[0;34m\u001b[0m\u001b[0m\n\u001b[0;32m----> 5\u001b[0;31m \u001b[0mprint\u001b[0m\u001b[0;34m(\u001b[0m\u001b[0mimage\u001b[0m\u001b[0;34m.\u001b[0m\u001b[0mshape\u001b[0m\u001b[0;34m)\u001b[0m\u001b[0;34m\u001b[0m\u001b[0;34m\u001b[0m\u001b[0m\n\u001b[0m\u001b[1;32m      6\u001b[0m \u001b[0;34m\u001b[0m\u001b[0m\n\u001b[1;32m      7\u001b[0m \u001b[0mhimage\u001b[0m \u001b[0;34m=\u001b[0m \u001b[0mimage\u001b[0m\u001b[0;34m.\u001b[0m\u001b[0mshape\u001b[0m\u001b[0;34m[\u001b[0m\u001b[0;36m0\u001b[0m\u001b[0;34m]\u001b[0m\u001b[0;34m\u001b[0m\u001b[0;34m\u001b[0m\u001b[0m\n",
            "\u001b[0;31mAttributeError\u001b[0m: 'NoneType' object has no attribute 'shape'"
          ]
        }
      ]
    }
  ]
}