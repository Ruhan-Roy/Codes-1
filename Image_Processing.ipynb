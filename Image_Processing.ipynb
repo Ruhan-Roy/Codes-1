{
  "nbformat": 4,
  "nbformat_minor": 0,
  "metadata": {
    "colab": {
      "provenance": [],
      "authorship_tag": "ABX9TyM94ST2Tkooiem2CjhE30L+",
      "include_colab_link": true
    },
    "kernelspec": {
      "name": "python3",
      "display_name": "Python 3"
    },
    "language_info": {
      "name": "python"
    }
  },
  "cells": [
    {
      "cell_type": "markdown",
      "metadata": {
        "id": "view-in-github",
        "colab_type": "text"
      },
      "source": [
        "<a href=\"https://colab.research.google.com/github/Ruhan-Royy/2022/blob/main/Image_Processing.ipynb\" target=\"_parent\"><img src=\"https://colab.research.google.com/assets/colab-badge.svg\" alt=\"Open In Colab\"/></a>"
      ]
    },
    {
      "cell_type": "code",
      "execution_count": null,
      "metadata": {
        "colab": {
          "base_uri": "https://localhost:8080/"
        },
        "id": "VuZkl3CUmps3",
        "outputId": "35642ea0-c899-4d62-fb96-fb882c0e00c6"
      },
      "outputs": [
        {
          "output_type": "execute_result",
          "data": {
            "text/plain": [
              "True"
            ]
          },
          "metadata": {},
          "execution_count": 3
        }
      ],
      "source": [
        "import cv2 # cv = computer vision which reads imgs and vids\n",
        "#read\n",
        "img = cv2.imread(\"/content/flower.jpeg\")\n",
        "#write\n",
        "cv2.imwrite(\"flower_output.jpeg\", img)"
      ]
    },
    {
      "cell_type": "code",
      "source": [
        "#pixel decription\n",
        "import cv2\n",
        "image = cv2.imread('/content/field.jpeg')\n",
        "#dimensions\n",
        "print(image.shape)\n",
        "#bgr\n",
        "print(image)\n",
        "#change in dimensions\n",
        "image=cv2.resize(image, (200, 150))\n",
        "#write\n",
        "cv2.imwrite('pic.png', image)"
      ],
      "metadata": {
        "id": "oFdhHV54gq1F"
      },
      "execution_count": null,
      "outputs": []
    },
    {
      "cell_type": "code",
      "source": [
        "#colour to black and white img\n",
        "import cv2\n",
        "#converting colour to bnw using grayscale function\n",
        "image = cv2.imread('/content/rainbow-background.jpg', cv2.IMREAD_GRAYSCALE)\n",
        "#in the bnw image there is just 2 dimensions and the \"3\" does not exist\n",
        "print(image.shape)\n",
        "print(image)#not in grp of bgr\n",
        "cv2.imwrite('bnw.jpg', image)"
      ],
      "metadata": {
        "colab": {
          "base_uri": "https://localhost:8080/"
        },
        "id": "2oPvHwsejdaD",
        "outputId": "e5e2f408-a875-40ef-f977-d1a08e13045b"
      },
      "execution_count": null,
      "outputs": [
        {
          "output_type": "stream",
          "name": "stdout",
          "text": [
            "(1050, 1400)\n",
            "[[56 56 56 ... 65 65 65]\n",
            " [56 56 56 ... 65 65 66]\n",
            " [56 56 57 ... 66 66 66]\n",
            " ...\n",
            " [40 40 40 ... 27 27 27]\n",
            " [40 40 40 ... 27 27 27]\n",
            " [40 40 40 ... 27 27 27]]\n"
          ]
        },
        {
          "output_type": "execute_result",
          "data": {
            "text/plain": [
              "True"
            ]
          },
          "metadata": {},
          "execution_count": 13
        }
      ]
    },
    {
      "cell_type": "code",
      "source": [
        "#specific colour change\n",
        "import cv2\n",
        "image = cv2.imread('/content/rubik.png')\n",
        "print(image.shape)\n",
        "#slicing[y1:y2, x1:x2]\n",
        "image[3:28,93:118] = 0, 214, 255\n",
        "image[33:60, 122:150] = 70, 156, 0\n",
        "image[63:89, 153:180] = 0, 87, 255\n",
        "cv2.imwrite('change.png', image)"
      ],
      "metadata": {
        "colab": {
          "base_uri": "https://localhost:8080/"
        },
        "id": "l83MpFnVoRMy",
        "outputId": "b4f1b896-1556-4a8c-bfa0-bd79a5dbb48c"
      },
      "execution_count": null,
      "outputs": [
        {
          "output_type": "stream",
          "name": "stdout",
          "text": [
            "(272, 362, 3)\n"
          ]
        },
        {
          "output_type": "execute_result",
          "data": {
            "text/plain": [
              "True"
            ]
          },
          "metadata": {},
          "execution_count": 24
        }
      ]
    },
    {
      "cell_type": "code",
      "source": [
        "#each pixel info using nested\n",
        "import cv2\n",
        "image = cv2.imread('/content/rainbow-background (1).jpg')\n",
        "print(image.shape)\n",
        "#image height and width\n",
        "h = image.shape[0]\n",
        "w = image.shape[1]\n",
        "#nested loop for height and width info\n",
        "for i in range(h):\n",
        "  for j in range(w):\n",
        "    print(image[i, j]) # each pixel info as output"
      ],
      "metadata": {
        "id": "tXb-G6saToLs"
      },
      "execution_count": null,
      "outputs": []
    },
    {
      "cell_type": "code",
      "source": [
        "#bnw compliment\n",
        "import cv2\n",
        "image = cv2.imread('/content/image_2024-04-17_150730946.png')\n",
        "print(image.shape)\n",
        "\n",
        "h = image.shape[0]\n",
        "w = image.shape[1]\n",
        "#nested loop\n",
        "for i in range(h):\n",
        "  for j in range(w):\n",
        "    #inverting by subtrating from 255\n",
        "    image[i, j] = 255-image[i, j]\n",
        "\n",
        "cv2.imwrite('new.jpg', image)\n"
      ],
      "metadata": {
        "colab": {
          "base_uri": "https://localhost:8080/"
        },
        "id": "92CWIBEFX4QV",
        "outputId": "d0b2758e-6c98-4531-e1e7-7e90a41e1083"
      },
      "execution_count": null,
      "outputs": [
        {
          "output_type": "stream",
          "name": "stdout",
          "text": [
            "(355, 348, 3)\n"
          ]
        },
        {
          "output_type": "execute_result",
          "data": {
            "text/plain": [
              "True"
            ]
          },
          "metadata": {},
          "execution_count": 12
        }
      ]
    },
    {
      "cell_type": "code",
      "source": [
        "#compliment of bgr\n",
        "import cv2\n",
        "image = cv2.imread('/content/wall bgr.jpeg')\n",
        "print(image.shape)\n",
        "#storage of colour index\n",
        "b = image[:, :, 0]\n",
        "g = image[:, :, 1]\n",
        "r = image[:, :, 2]\n",
        "#duplicating the image\n",
        "duplimage = image.copy()\n",
        "#shifting b to r and r to b\n",
        "duplimage[:, :, 0]=r\n",
        "duplimage[:, :, 2]=b\n",
        "\n",
        "cv2.imwrite('rgb.jpeg', duplimage)"
      ],
      "metadata": {
        "colab": {
          "base_uri": "https://localhost:8080/"
        },
        "id": "4IATrLaweBbD",
        "outputId": "1c44f542-f56e-48d9-fd39-d15e44a2c08e"
      },
      "execution_count": null,
      "outputs": [
        {
          "output_type": "stream",
          "name": "stdout",
          "text": [
            "(190, 266, 3)\n"
          ]
        },
        {
          "output_type": "execute_result",
          "data": {
            "text/plain": [
              "True"
            ]
          },
          "metadata": {},
          "execution_count": 16
        }
      ]
    },
    {
      "cell_type": "code",
      "source": [
        "\n"
      ],
      "metadata": {
        "colab": {
          "base_uri": "https://localhost:8080/"
        },
        "id": "2Yfqnizl9kQj",
        "outputId": "3ee6dd95-4c19-47d8-fd81-12880e99e532"
      },
      "execution_count": null,
      "outputs": [
        {
          "output_type": "stream",
          "name": "stdout",
          "text": [
            "background image (148, 212, 3)\n",
            "logo (80, 80, 3)\n"
          ]
        },
        {
          "output_type": "execute_result",
          "data": {
            "text/plain": [
              "True"
            ]
          },
          "metadata": {},
          "execution_count": 18
        }
      ]
    }
  ]
}