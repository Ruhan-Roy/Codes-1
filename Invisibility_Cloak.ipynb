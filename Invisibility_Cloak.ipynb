{
  "nbformat": 4,
  "nbformat_minor": 0,
  "metadata": {
    "colab": {
      "provenance": [],
      "authorship_tag": "ABX9TyMMnmoVySYOx0I7lb92WgBy",
      "include_colab_link": true
    },
    "kernelspec": {
      "name": "python3",
      "display_name": "Python 3"
    },
    "language_info": {
      "name": "python"
    }
  },
  "cells": [
    {
      "cell_type": "markdown",
      "metadata": {
        "id": "view-in-github",
        "colab_type": "text"
      },
      "source": [
        "<a href=\"https://colab.research.google.com/github/Ruhan-Royy/2022/blob/main/Invisibility_Cloak.ipynb\" target=\"_parent\"><img src=\"https://colab.research.google.com/assets/colab-badge.svg\" alt=\"Open In Colab\"/></a>"
      ]
    },
    {
      "cell_type": "code",
      "execution_count": null,
      "metadata": {
        "colab": {
          "base_uri": "https://localhost:8080/"
        },
        "id": "2HwBIdArUo4V",
        "outputId": "c9eb3337-65eb-4958-b304-ad804fd460c5"
      },
      "outputs": [
        {
          "output_type": "stream",
          "name": "stdout",
          "text": [
            "cloak (592, 335, 3)\n",
            "bg (592, 335, 3)\n"
          ]
        },
        {
          "output_type": "execute_result",
          "data": {
            "text/plain": [
              "True"
            ]
          },
          "metadata": {},
          "execution_count": 21
        }
      ],
      "source": [
        "import cv2\n",
        "bg = cv2.imread('/content/bg.jpeg')\n",
        "cloak = cv2.imread('/content/cloak.jpeg')\n",
        "\n",
        "print('cloak', cloak.shape)\n",
        "#print('bg', bg.shape)\n",
        "bg = cv2.resize(bg, (335, 592))\n",
        "print('bg', bg.shape)\n",
        "\n",
        "h = cloak.shape[0]\n",
        "w = cloak.shape[1]\n",
        "\n",
        "for i in range(h):\n",
        "  for j in range(w):\n",
        "    if not(cloak[i, j][0] > 70 and 30 < cloak[i, j][1] < 190 and cloak[i, j][2] < 70 ):\n",
        "      bg[i, j] = cloak[i, j]\n",
        "\n",
        "\n",
        "cv2.imwrite('invisible.jpeg', bg)"
      ]
    },
    {
      "cell_type": "code",
      "source": [
        "import cv2\n",
        "vid = cv2.VideoCapture('/content/Aman visible.mp4')\n",
        "\n",
        "fh = int(vid.get(cv2.CAP_PROP_FRAME_HEIGHT))\n",
        "fw = int(vid.get(cv2.CAP_PROP_FRAME_WIDTH))\n",
        "fps = vid.get(cv2.CAP_PROP_FPS)\n",
        "print(fh, fw, fps)\n",
        "\n",
        "bg = cv2.imread('/content/bg.jpeg')\n",
        "#print('bg', bg.shape)\n",
        "bg= cv2.resize(bg, (fw,fh))\n",
        "print('bg', bg.shape)\n",
        "\n",
        "#Format\n",
        "vidout = cv2.VideoWriter('newvid.avi', cv2.VideoWriter_fourcc(*'XVID'), fps, (fw, fh))"
      ],
      "metadata": {
        "colab": {
          "base_uri": "https://localhost:8080/"
        },
        "id": "nC1t1H9WcXB2",
        "outputId": "82221fb9-6c80-48d6-f7eb-c7775cf9bce1"
      },
      "execution_count": null,
      "outputs": [
        {
          "output_type": "stream",
          "name": "stdout",
          "text": [
            "848 480 29.97002997002997\n",
            "bg (848, 480, 3)\n"
          ]
        }
      ]
    }
  ]
}