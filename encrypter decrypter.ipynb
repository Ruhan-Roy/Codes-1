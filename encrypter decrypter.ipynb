{
  "nbformat": 4,
  "nbformat_minor": 0,
  "metadata": {
    "colab": {
      "provenance": []
    },
    "kernelspec": {
      "name": "python3",
      "display_name": "Python 3"
    },
    "language_info": {
      "name": "python"
    }
  },
  "cells": [
    {
      "cell_type": "code",
      "source": [
        "alphabet = 'abcdefghijklmnopqrstuvwxyz'\n",
        "\n",
        "key = -5\n",
        "newMessage = ''\n",
        "\n",
        "message = input('Please enter a message:')\n",
        "\n",
        "for character in message:\n",
        "    if character in alphabet:\n",
        "        position = alphabet.find(character)\n",
        "        newPosition = (position + key) % 26\n",
        "        newCharacter = alphabet[newPosition]\n",
        "        newMessage += newCharacter\n",
        "    else:\n",
        "        newMessage += character  # This handles spaces and any other non-alphabet characters\n",
        "\n",
        "print('Your new message is', newMessage)\n"
      ],
      "metadata": {
        "colab": {
          "base_uri": "https://localhost:8080/"
        },
        "id": "1o2QqzfWr7xC",
        "outputId": "2a907fdc-3dbf-4317-9996-2c33369f63c2"
      },
      "execution_count": 13,
      "outputs": [
        {
          "output_type": "stream",
          "name": "stdout",
          "text": [
            "Please enter a message:mohisha rand\n",
            "Your new message is hjcdncv mviy\n"
          ]
        }
      ]
    },
    {
      "cell_type": "code",
      "source": [
        "alphabet = 'abcdefghijklmnopqrstuvwxyz'\n",
        "\n",
        "key = -5\n",
        "newMessage = ''\n",
        "\n",
        "message = input('Please enter the encrypted message:')\n",
        "\n",
        "for character in message:\n",
        "    if character in alphabet:\n",
        "        position = alphabet.find(character)\n",
        "        newPosition = (position - key) % 26\n",
        "        newCharacter = alphabet[newPosition]\n",
        "        newMessage += newCharacter\n",
        "    else:\n",
        "        newMessage += character  # This handles spaces and any other non-alphabet characters\n",
        "\n",
        "print('Your decrypted message is', newMessage)\n"
      ],
      "metadata": {
        "colab": {
          "base_uri": "https://localhost:8080/"
        },
        "id": "7lrc8l3puaKs",
        "outputId": "f616b648-84d4-4360-c2cf-90a6e4d49411"
      },
      "execution_count": 14,
      "outputs": [
        {
          "output_type": "stream",
          "name": "stdout",
          "text": [
            "Please enter the encrypted message:hjcdncv mviy\n",
            "Your decrypted message is mohisha rand\n"
          ]
        }
      ]
    }
  ]
}